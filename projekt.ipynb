{
  "nbformat": 4,
  "nbformat_minor": 0,
  "metadata": {
    "colab": {
      "provenance": [],
      "authorship_tag": "ABX9TyOilOMqSUPA89rhOjV7Fv7f",
      "include_colab_link": true
    },
    "kernelspec": {
      "name": "python3",
      "display_name": "Python 3"
    },
    "language_info": {
      "name": "python"
    }
  },
  "cells": [
    {
      "cell_type": "markdown",
      "metadata": {
        "id": "view-in-github",
        "colab_type": "text"
      },
      "source": [
        "<a href=\"https://colab.research.google.com/github/seabirdosu/osu-Map-Generator/blob/main/projekt.ipynb\" target=\"_parent\"><img src=\"https://colab.research.google.com/assets/colab-badge.svg\" alt=\"Open In Colab\"/></a>"
      ]
    },
    {
      "cell_type": "code",
      "execution_count": null,
      "metadata": {
        "id": "kqrb1cwoiS1d"
      },
      "outputs": [],
      "source": [
        "# Takes all user input for meta data and other important values for map, reffer to osu-wiki on mapstructure if unclear\n",
        "\n",
        "# General\n",
        "General = {\n",
        "    \"AudioFilename\" : input(\"Name of MP3: \") + \".mp3\",\n",
        "    \"AudioLeadIn\" : 0,\n",
        "    \"PreviewTime\" : 0,\n",
        "    \"Countdown\" : 0,\n",
        "    \"Sampleset\" : \"Soft\",\n",
        "    \"StackLeniency\" : 0.7,\n",
        "    \"Mode\" : 0,\n",
        "    \"LetterboxInBreaks\"\t: 1,\n",
        "    \"WidescreenStoryboard\" : 1\n",
        "}\n",
        "\n",
        "# Editor (Place holder atm not sure if needed)\n",
        "\n",
        "Editor = \"[Editor]\"\n",
        "\n",
        "# Meta data\n",
        "meta_data = {\n",
        "    \"Title\" : input(\"Song title: \"),\n",
        "    \"Artist\" : input(\"Artist Name: \"),\n",
        "    \"Creator\" : input(\"Beatmap Creator: \"),\n",
        "    \"Version\" : input(\"Difficulty Name: \")\n",
        "}\n",
        "\n",
        "# song info\n",
        "bpm = float(input(\"BPM of song: \"))\n",
        "offset = int(input(\"Songs offset (ms): \"))\n",
        "song_length = int(input(\"Song Length: \"))\n",
        "beatsnap = int(input(\"Beatsnap Divisor 4/?\"))\n",
        "\n",
        "# Difficulty settings\n",
        "Difficulty = {\n",
        "    \"HPDrainRate\" : float(input(\"HP Drain: \")),\n",
        "    \"CircleSize\" : float(input(\"Circle Size: \")),\n",
        "    \"OverallDifficulty\" : float(input(\"Overall Difficulty: \")),\n",
        "    \"ApproachRate\" : float(input(\"Aproach Rate: \"))\n",
        "}\n",
        "\n",
        "# Math to convert BPM to ms since osu! opperates on ms-timeline\n",
        "miliseconds_per_beat = int(60_000 / bpm)\n",
        "miliseconds_song_length = (song_length * 1000)\n",
        "\n",
        "# Generation of objects based on values above\n",
        "from random import randint\n",
        "hit_objects = []\n",
        "\n",
        "for time in range(offset, miliseconds_song_length, int(miliseconds_per_beat / beatsnap )):\n",
        "  x = randint(0, 512)\n",
        "  y = randint(0, 384)\n",
        "  object_type = 1\n",
        "  hit_object = f\"{x},{y},{time},{object_type},0\"\n",
        "  hit_objects.append(hit_object)\n",
        "\n",
        "# Formating of text file\n",
        "\n",
        "print(\"[General]\")\n",
        "print(General)\n",
        "print(Editor)\n",
        "print(\"[Metadata]\")\n",
        "print(meta_data)\n",
        "print(\"[Difficulty]\")\n",
        "print(Difficulty)\n",
        "print(\"[HitObjects]\")\n",
        "for i in hit_objects:\n",
        "  print(i)"
      ]
    },
    {
      "cell_type": "code",
      "source": [],
      "metadata": {
        "colab": {
          "base_uri": "https://localhost:8080/",
          "height": 141
        },
        "id": "UxPADo0E3OGF",
        "outputId": "31b29ee9-0e00-4a96-815e-1e8349d35b02"
      },
      "execution_count": 1,
      "outputs": [
        {
          "output_type": "error",
          "ename": "NameError",
          "evalue": "name 'editor' is not defined",
          "traceback": [
            "\u001b[0;31m---------------------------------------------------------------------------\u001b[0m",
            "\u001b[0;31mNameError\u001b[0m                                 Traceback (most recent call last)",
            "\u001b[0;32m<ipython-input-1-f7d319361a50>\u001b[0m in \u001b[0;36m<cell line: 1>\u001b[0;34m()\u001b[0m\n\u001b[0;32m----> 1\u001b[0;31m \u001b[0mprint\u001b[0m\u001b[0;34m(\u001b[0m\u001b[0meditor\u001b[0m\u001b[0;34m)\u001b[0m\u001b[0;34m\u001b[0m\u001b[0;34m\u001b[0m\u001b[0m\n\u001b[0m",
            "\u001b[0;31mNameError\u001b[0m: name 'editor' is not defined"
          ]
        }
      ]
    },
    {
      "cell_type": "code",
      "source": [],
      "metadata": {
        "id": "1MniY6Xs3k9J"
      },
      "execution_count": null,
      "outputs": []
    }
  ]
}