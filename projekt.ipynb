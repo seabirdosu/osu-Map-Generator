{
  "nbformat": 4,
  "nbformat_minor": 0,
  "metadata": {
    "colab": {
      "provenance": [],
      "authorship_tag": "ABX9TyOwzJfbG5flKT+xDNAc5jK/",
      "include_colab_link": true
    },
    "kernelspec": {
      "name": "python3",
      "display_name": "Python 3"
    },
    "language_info": {
      "name": "python"
    }
  },
  "cells": [
    {
      "cell_type": "markdown",
      "metadata": {
        "id": "view-in-github",
        "colab_type": "text"
      },
      "source": [
        "<a href=\"https://colab.research.google.com/github/seabirdosu/osu-Map-Generator/blob/main/projekt.ipynb\" target=\"_parent\"><img src=\"https://colab.research.google.com/assets/colab-badge.svg\" alt=\"Open In Colab\"/></a>"
      ]
    },
    {
      "cell_type": "code",
      "execution_count": 3,
      "metadata": {
        "id": "kqrb1cwoiS1d",
        "colab": {
          "base_uri": "https://localhost:8080/",
          "height": 436
        },
        "outputId": "6bc739e3-54f8-40b7-e8d3-3f63f4cbe34e"
      },
      "outputs": [
        {
          "name": "stdout",
          "output_type": "stream",
          "text": [
            "Name of MP3: asd\n",
            "Song title: sd\n",
            "Artist Name: asd\n",
            "Beatmap Creator: asd\n",
            "Difficulty Name: asd\n",
            "BPM of song: 123\n",
            "Songs offset (ms): 123\n",
            "Song Length: 1234\n",
            "Beatsnap Divisor 4/?4\n",
            "HP Drain: 4.5\n",
            "Circle Size: 4\n",
            "Overall Difficulty: 4\n",
            "Aproach Rate: 10\n"
          ]
        },
        {
          "output_type": "error",
          "ename": "TypeError",
          "evalue": "'float' object cannot be interpreted as an integer",
          "traceback": [
            "\u001b[0;31m---------------------------------------------------------------------------\u001b[0m",
            "\u001b[0;31mTypeError\u001b[0m                                 Traceback (most recent call last)",
            "\u001b[0;32m<ipython-input-3-31adb7540ec7>\u001b[0m in \u001b[0;36m<cell line: 50>\u001b[0;34m()\u001b[0m\n\u001b[1;32m     48\u001b[0m \u001b[0mhit_objects\u001b[0m \u001b[0;34m=\u001b[0m \u001b[0;34m[\u001b[0m\u001b[0;34m]\u001b[0m\u001b[0;34m\u001b[0m\u001b[0;34m\u001b[0m\u001b[0m\n\u001b[1;32m     49\u001b[0m \u001b[0;34m\u001b[0m\u001b[0m\n\u001b[0;32m---> 50\u001b[0;31m \u001b[0;32mfor\u001b[0m \u001b[0mtime\u001b[0m \u001b[0;32min\u001b[0m \u001b[0mrange\u001b[0m\u001b[0;34m(\u001b[0m\u001b[0moffset\u001b[0m\u001b[0;34m,\u001b[0m \u001b[0mmiliseconds_song_length\u001b[0m\u001b[0;34m,\u001b[0m \u001b[0;34m(\u001b[0m\u001b[0mmiliseconds_per_beat\u001b[0m \u001b[0;34m/\u001b[0m \u001b[0mbeatsnap\u001b[0m \u001b[0;34m)\u001b[0m\u001b[0;34m)\u001b[0m\u001b[0;34m:\u001b[0m\u001b[0;34m\u001b[0m\u001b[0;34m\u001b[0m\u001b[0m\n\u001b[0m\u001b[1;32m     51\u001b[0m   \u001b[0mx\u001b[0m \u001b[0;34m=\u001b[0m \u001b[0mrandint\u001b[0m\u001b[0;34m(\u001b[0m\u001b[0;36m0\u001b[0m\u001b[0;34m,\u001b[0m \u001b[0;36m512\u001b[0m\u001b[0;34m)\u001b[0m\u001b[0;34m\u001b[0m\u001b[0;34m\u001b[0m\u001b[0m\n\u001b[1;32m     52\u001b[0m   \u001b[0my\u001b[0m \u001b[0;34m=\u001b[0m \u001b[0mrandint\u001b[0m\u001b[0;34m(\u001b[0m\u001b[0;36m0\u001b[0m\u001b[0;34m,\u001b[0m \u001b[0;36m384\u001b[0m\u001b[0;34m)\u001b[0m\u001b[0;34m\u001b[0m\u001b[0;34m\u001b[0m\u001b[0m\n",
            "\u001b[0;31mTypeError\u001b[0m: 'float' object cannot be interpreted as an integer"
          ]
        }
      ],
      "source": [
        "a# Takes all user input for meta data and other important values for map, reffer to osu-wiki on mapstructure if unclear\n",
        "\n",
        "# General\n",
        "General = {\n",
        "    \"AudioFilename\" : input(\"Name of MP3: \") + \".mp3\",\n",
        "    \"AudioLeadIn\" : 0,\n",
        "    \"PreviewTime\" : 0,\n",
        "    \"Countdown\" : 0,\n",
        "    \"Sampleset\" : \"Soft\",\n",
        "    \"StackLeniency\" : 0.7,\n",
        "    \"Mode\" : 0,\n",
        "    \"LetterboxInBreaks\"\t: 1,\n",
        "    \"WidescreenStoryboard\" : 1\n",
        "}\n",
        "\n",
        "# Editor (Place holder atm not sure if needed)\n",
        "\n",
        "Editor = \"[Editor]\"\n",
        "\n",
        "# Meta data\n",
        "meta_data = {\n",
        "    \"Title\" : input(\"Song title: \"),\n",
        "    \"Artist\" : input(\"Artist Name: \"),\n",
        "    \"Creator\" : input(\"Beatmap Creator: \"),\n",
        "    \"Version\" : input(\"Difficulty Name: \")\n",
        "}\n",
        "\n",
        "# song info\n",
        "bpm = float(input(\"BPM of song: \"))\n",
        "offset = float(input(\"Songs offset (ms): \"))\n",
        "song_length = float(input(\"Song Length: \"))\n",
        "beatsnap = float(input(\"Beatsnap Divisor 4/?\"))\n",
        "\n",
        "# Difficulty settings\n",
        "Difficulty = {\n",
        "    \"HPDrainRate\" : float(input(\"HP Drain: \")),\n",
        "    \"CircleSize\" : float(input(\"Circle Size: \")),\n",
        "    \"OverallDifficulty\" : float(input(\"Overall Difficulty: \")),\n",
        "    \"ApproachRate\" : float(input(\"Aproach Rate: \"))\n",
        "}\n",
        "\n",
        "# Math to convert BPM to ms since osu! opperates on ms-timeline\n",
        "miliseconds_per_beat = float(60_000 / bpm)\n",
        "miliseconds_song_length = (song_length * 1000)\n",
        "\n",
        "# Generation of objects based on values above\n",
        "from random import randint\n",
        "hit_objects = []\n",
        "\n",
        "for time in range(offset, miliseconds_song_length, (miliseconds_per_beat / beatsnap )):\n",
        "  x = randint(0, 512)\n",
        "  y = randint(0, 384)\n",
        "  object_type = 1\n",
        "  hit_object = f\"{x},{y},{time},{object_type},0\"\n",
        "  hit_objects.append(hit_object)\n",
        "\n",
        "# Formating of text file\n",
        "\n",
        "print(\"[General]\")\n",
        "print(General)\n",
        "print(Editor)\n",
        "print(\"[Metadata]\")\n",
        "print(meta_data)\n",
        "print(\"[Difficulty]\")\n",
        "print(Difficulty)\n",
        "print(\"[HitObjects]\")\n",
        "for i in hit_objects:\n",
        "  print(i)"
      ]
    },
    {
      "cell_type": "code",
      "source": [
        "def float_range(start, stop, step):\n",
        "  while start < stop:\n",
        "    yield start\n",
        "    start += stop\n",
        "\n",
        "float_range(10,100,1.4)\n",
        "\n"
      ],
      "metadata": {
        "colab": {
          "base_uri": "https://localhost:8080/"
        },
        "id": "UxPADo0E3OGF",
        "outputId": "edc975fe-e831-408c-ff12-72b73acad9b4"
      },
      "execution_count": 4,
      "outputs": [
        {
          "output_type": "execute_result",
          "data": {
            "text/plain": [
              "<generator object float_range at 0x78ad5d92cf20>"
            ]
          },
          "metadata": {},
          "execution_count": 4
        }
      ]
    },
    {
      "cell_type": "code",
      "source": [],
      "metadata": {
        "id": "1MniY6Xs3k9J"
      },
      "execution_count": null,
      "outputs": []
    }
  ]
}