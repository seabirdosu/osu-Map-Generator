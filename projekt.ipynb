{
  "nbformat": 4,
  "nbformat_minor": 0,
  "metadata": {
    "colab": {
      "provenance": [],
      "include_colab_link": true
    },
    "kernelspec": {
      "name": "python3",
      "display_name": "Python 3"
    },
    "language_info": {
      "name": "python"
    }
  },
  "cells": [
    {
      "cell_type": "markdown",
      "metadata": {
        "id": "view-in-github",
        "colab_type": "text"
      },
      "source": [
        "<a href=\"https://colab.research.google.com/github/seabirdosu/osu-Map-Generator/blob/main/projekt.ipynb\" target=\"_parent\"><img src=\"https://colab.research.google.com/assets/colab-badge.svg\" alt=\"Open In Colab\"/></a>"
      ]
    },
    {
      "cell_type": "code",
      "execution_count": null,
      "metadata": {
        "id": "kqrb1cwoiS1d"
      },
      "outputs": [],
      "source": [
        "# Modules used for this project\n",
        "\n",
        "import os\n",
        "from random import randint\n",
        "from decimal import Decimal\n",
        "\n",
        "# Takes all user input for meta data and other important values for map, reffer to osu-wiki on mapstructure if unclear\n",
        "\n",
        "# General\n",
        "editor_general_settings = {\n",
        "    \"AudioFilename\" : input(\"Name of MP3: \") + \".mp3\",\n",
        "    \"AudioLeadIn\" : 0,\n",
        "    \"PreviewTime\" : 0,\n",
        "    \"Countdown\" : 0,\n",
        "    \"Sampleset\" : \"Soft\",\n",
        "    \"StackLeniency\" : 0.7,\n",
        "    \"Mode\" : 0,\n",
        "    \"LetterboxInBreaks\"\t: 1,\n",
        "    \"WidescreenStoryboard\" : 1\n",
        "}\n",
        "\n",
        "# Editor (Place holder atm not sure if needed)\n",
        "\n",
        "editor = \"[Editor]\"\n",
        "\n",
        "# Meta data\n",
        "meta_data = {\n",
        "    \"Title\" : input(\"Song title: \"),\n",
        "    \"Artist\" : input(\"Artist Name: \"),\n",
        "    \"Creator\" : input(\"Beatmap Creator: \"),\n",
        "    \"Version\" : input(\"Difficulty Name: \")\n",
        "}\n",
        "\n",
        "# song info\n",
        "bpm = int(input(\"BPM of song: \"))\n",
        "offset = int(input(\"Songs offset (ms): \"))\n",
        "song_length = int(input(\"Song Length: \"))\n",
        "\n",
        "\n",
        "# Difficulty settings\n",
        "difficulty = {\n",
        "    \"HPDrainRate\" : float(input(\"HP Drain: \")),\n",
        "    \"CircleSize\" : float(input(\"Circle Size: \")),\n",
        "    \"OverallDifficulty\" : float(input(\"Overall Difficulty: \")),\n",
        "    \"ApproachRate\" : float(input(\"Aproach Rate: \"))\n",
        "}\n",
        "\n",
        "# Math to convert BPM to ms since osu! opperates on ms-timeline\n",
        "miliseconds_per_beat = int(60_000 / bpm)\n",
        "miliseconds_song_length = (song_length * 1000)\n",
        "\n",
        "# Custom range function for beatsnap divisor\n",
        "def decimal_range(start, stop, step):\n",
        "  start = Decimal(start)\n",
        "  stop = Decimal(stop)\n",
        "  step = Decimal(step)\n",
        "  while start < stop:\n",
        "    yield float(start)\n",
        "    start += step\n",
        "\n",
        "#Variables\n",
        "miliseconds_per_beat = int(60_000 / bpm)\n",
        "miliseconds_song_length = (song_length * 1000)\n",
        "beatsnap = int(input(\"Beatsnap Divisor 4/x: \"))\n",
        "step = miliseconds_per_beat / beatsnap\n",
        "\n",
        "# Timing Points (Needed for osu! to be able to read file, useless for us otherwise)\n",
        "timing_points = f\"{offset},{step},{beatsnap},0,60,1,0\"\n",
        "\n",
        "\n",
        "hit_objects = []\n",
        "\n",
        "for time in decimal_range(offset, miliseconds_song_length, step):\n",
        "  x = randint(0, 512)\n",
        "  y = randint(0, 384)\n",
        "  object_type = 1\n",
        "  hit_object = f\"{x},{y},{time},{object_type},0\"\n",
        "  hit_objects.append(hit_object)\n",
        "\n",
        "# Creating a folder where all files will be located\n",
        "\n",
        "folder_path = input(\"Copy your osu!-beatmap folder path\")\n",
        "\n",
        "foldername = f\"\\\\{meta_data['Title']}\"\n",
        "\n",
        "os.makedirs(folder_path + foldername, exist_ok=True)\n",
        "print(f\"Folder '{folder_path + foldername}' created successfully.\")\n",
        "\n",
        "# Creating and formating a textfile that will allow the game to display the map\n",
        "\n",
        "with open(f\"{folder_path}\\\\{foldername}{meta_data['Artist']} {meta_data['Title']} ({meta_data['Creator']}) [{meta_data['Version']}].OSU\",\"w\") as file:\n",
        "\n",
        "  file.write(\"\\n [General] \\n\")\n",
        "  for i, j in editor_general_settings.items():\n",
        "    file.write(f\"{i}: {j}\")\n",
        "\n",
        "  file.write(\"\\n [Metadata] \\n\")\n",
        "  for i, j in meta_data.items():\n",
        "    file.write(f\"{i}: {j}\")\n",
        "\n",
        "  file.write(\"\\n [Difficulty] \\n\")\n",
        "  for i, j in difficulty.items():\n",
        "    file.write(f\"{i}: {j}\")\n",
        "\n",
        "  file.write(\"\\n [TimingPoints] \\n\")\n",
        "  file.write(f\"\\n {timing_points} \\n\")\n",
        "\n",
        "\n",
        "  file.write(\"\\n [Hit Objects] \\n\")\n",
        "  for i in hit_objects:\n",
        "    file.write(i)"
      ]
    },
    {
      "cell_type": "code",
      "source": [],
      "metadata": {
        "colab": {
          "base_uri": "https://localhost:8080/"
        },
        "id": "UxPADo0E3OGF",
        "outputId": "edc975fe-e831-408c-ff12-72b73acad9b4"
      },
      "execution_count": null,
      "outputs": [
        {
          "output_type": "execute_result",
          "data": {
            "text/plain": [
              "<generator object float_range at 0x78ad5d92cf20>"
            ]
          },
          "metadata": {},
          "execution_count": 4
        }
      ]
    },
    {
      "cell_type": "code",
      "source": [],
      "metadata": {
        "id": "1MniY6Xs3k9J"
      },
      "execution_count": null,
      "outputs": []
    }
  ]
}