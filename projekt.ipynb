{
  "nbformat": 4,
  "nbformat_minor": 0,
  "metadata": {
    "colab": {
      "provenance": [],
      "authorship_tag": "ABX9TyMuolc7VKwyuGdh2WxL+Che",
      "include_colab_link": true
    },
    "kernelspec": {
      "name": "python3",
      "display_name": "Python 3"
    },
    "language_info": {
      "name": "python"
    }
  },
  "cells": [
    {
      "cell_type": "markdown",
      "metadata": {
        "id": "view-in-github",
        "colab_type": "text"
      },
      "source": [
        "<a href=\"https://colab.research.google.com/github/seabirdosu/osu-Map-Generator/blob/main/projekt.ipynb\" target=\"_parent\"><img src=\"https://colab.research.google.com/assets/colab-badge.svg\" alt=\"Open In Colab\"/></a>"
      ]
    },
    {
      "cell_type": "code",
      "execution_count": null,
      "metadata": {
        "colab": {
          "base_uri": "https://localhost:8080/"
        },
        "id": "kqrb1cwoiS1d",
        "outputId": "1eb51989-dbc6-4e8e-f433-72258bf41ada"
      },
      
          ]
        }
      ],
      "source": [
        "# Takes all user input for meta data and other important values for map\n",
        "\n",
        "# Meta data\n",
        "title = input(\"Song Title (Romanized): \")\n",
        "artist = input(\"Artist (Romanized): \")\n",
        "creator = input(\"Creator: \")\n",
        "source = input(\"Source: \")\n",
        "tags = input(\"Tags: \")\n",
        "\n",
        "# song info\n",
        "bpm = float(input(\"BPM of song: \"))\n",
        "offset = int(input(\"Songs offset (ms): \"))\n",
        "song_length = int(input(\"Song Length: \"))\n",
        "beatsnap = int(input(\"Beatsnap Divisor 4/?\"))\n",
        "\n",
        "# Difficulty settings\n",
        "'''hp_drain = float(input(\"HP Drain: \"))\n",
        "circle_size = float(input(\"Circle Size: \"))\n",
        "overall_difficulty = float(input(\"Overall Difficulty: \"))\n",
        "aproach_rate = float(input(\"Aproach Rate: \")) '''\n",
        "\n",
        "# Math to convert BPM to ms since osu! opperates on ms-timeline\n",
        "miliseconds_per_beat = int(60_000 / bpm)\n",
        "miliseconds_song_length = (song_length * 1000)\n",
        "\n",
        "# Generation of objects based on values above\n",
        "from random import randint\n",
        "hit_objects = []\n",
        "\n",
        "for time in range(offset, miliseconds_song_length, (miliseconds_per_beat / beatsnap )):\n",
        "  x = randint(0, 512)\n",
        "  y = randint(0, 384)\n",
        "  object_type = 1\n",
        "  hit_object = f\"{x},{y},{time},{object_type},0\"\n",
        "  hit_objects.append(hit_object)\n",
        "\n",
        "for i in hit_objects:\n",
        "  print(i)"
      ]
    },
    {
      "cell_type": "code",
      "source": [],
      "metadata": {
        "id": "dP7_x-IgaGcm"
      },
      "execution_count": null,
      "outputs": []
    }
  ]
}
