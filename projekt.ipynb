{
  "nbformat": 4,
  "nbformat_minor": 0,
  "metadata": {
    "colab": {
      "provenance": [],
      "authorship_tag": "ABX9TyMZsJ/6BEyoYEwOwDeFUm93",
      "include_colab_link": true
    },
    "kernelspec": {
      "name": "python3",
      "display_name": "Python 3"
    },
    "language_info": {
      "name": "python"
    }
  },
  "cells": [
    {
      "cell_type": "markdown",
      "metadata": {
        "id": "view-in-github",
        "colab_type": "text"
      },
      "source": [
        "<a href=\"https://colab.research.google.com/github/seabirdosu/osu-Map-Generator/blob/main/projekt.ipynb\" target=\"_parent\"><img src=\"https://colab.research.google.com/assets/colab-badge.svg\" alt=\"Open In Colab\"/></a>"
      ]
    },
    {
      "cell_type": "code",
      "execution_count": null,
      "metadata": {
        "id": "kqrb1cwoiS1d"
      },
      "outputs": [],
      "source": [
        "# Takes all user input for meta data and other important values for map, reffer to osu-wiki on mapstructure if unclear\n",
        "\n",
        "# General\n",
        "General = {\n",
        "    \"AudioFilename\" : input(\"Name of MP3: \") + \".mp3\",\n",
        "    \"AudioLeadIn\" : 0,\n",
        "    \"PreviewTime\" : 0,\n",
        "    \"Countdown\" : 0,\n",
        "    \"Sampleset\" : \"Soft\",\n",
        "    \"StackLeniency\" : 0.7,\n",
        "    \"Mode\" : 0,\n",
        "    \"LetterboxInBreaks\"\t: 1,\n",
        "    \"WidescreenStoryboard\" : 1\n",
        "}\n",
        "\n",
        "# Editor (Place holder atm not sure if needed)\n",
        "\n",
        "Editor = \"[Editor]\"\n",
        "\n",
        "# Meta data\n",
        "meta_data = {\n",
        "    \"Title\" : input(\"Song title: \"),\n",
        "    \"Artist\" : input(\"Artist Name: \"),\n",
        "    \"Creator\" : input(\"Beatmap Creator: \"),\n",
        "    \"Version\" : input(\"Difficulty Name: \")\n",
        "}\n",
        "\n",
        "# song info\n",
        "bpm = int(input(\"BPM of song: \"))\n",
        "offset = int(input(\"Songs offset (ms): \"))\n",
        "song_length = int(input(\"Song Length: \"))\n",
        "\n",
        "\n",
        "# Difficulty settings\n",
        "Difficulty = {\n",
        "    \"HPDrainRate\" : float(input(\"HP Drain: \")),\n",
        "    \"CircleSize\" : float(input(\"Circle Size: \")),\n",
        "    \"OverallDifficulty\" : float(input(\"Overall Difficulty: \")),\n",
        "    \"ApproachRate\" : float(input(\"Aproach Rate: \"))\n",
        "}\n",
        "\n",
        "# Math to convert BPM to ms since osu! opperates on ms-timeline\n",
        "miliseconds_per_beat = int(60_000 / bpm)\n",
        "miliseconds_song_length = (song_length * 1000)\n",
        "\n",
        "# Generation of objects based on values above\n",
        "from random import randint\n",
        "from decimal import Decimal\n",
        "\n",
        "# Custom range function for beatsnap divisor\n",
        "def decimal_range(start, stop, step):\n",
        "  start = Decimal(start)\n",
        "  stop = Decimal(stop)\n",
        "  step = Decimal(step)\n",
        "  while start < stop:\n",
        "    yield float(start)\n",
        "    start += step\n",
        "\n",
        "#Variables\n",
        "miliseconds_per_beat = int(60_000 / bpm)\n",
        "miliseconds_song_length = (song_length * 1000)\n",
        "beatsnap = int(input(\"Beatsnap Divisor 4/x: \"))\n",
        "step = miliseconds_per_beat / beatsnap\n",
        "\n",
        "hit_objects = []\n",
        "\n",
        "for time in decimal_range(offset, miliseconds_song_length, step):\n",
        "  x = randint(0, 512)\n",
        "  y = randint(0, 384)\n",
        "  object_type = 1\n",
        "  hit_object = f\"{x},{y},{time},{object_type},0\"\n",
        "  hit_objects.append(hit_object)\n",
        "\n",
        "# Formating of text file\n",
        "\n",
        "\n",
        "print(\"\\n [General] \\n\")\n",
        "for i, j in General.items():\n",
        "  print(f\"{i}: {j}\")\n",
        "\n",
        "print(\"\\n [Metadata] \\n\")\n",
        "for i, j in meta_data.items():\n",
        "  print(f\"{i}: {j}\")\n",
        "\n",
        "print(\"\\n [Difficulty] \\n\")\n",
        "for i, j in Difficulty.items():\n",
        "  print(f\"{i}: {j}\")\n",
        "\n",
        "print(\"\\n [Hit Objects] \\n\")\n",
        "for i, j in hit_objects.items():\n",
        "  print(f\"{i}: {j}\")"
      ]
    },
    {
      "cell_type": "code",
      "source": [],
      "metadata": {
        "colab": {
          "base_uri": "https://localhost:8080/"
        },
        "id": "UxPADo0E3OGF",
        "outputId": "edc975fe-e831-408c-ff12-72b73acad9b4"
      },
      "execution_count": null,
      "outputs": [
        {
          "output_type": "execute_result",
          "data": {
            "text/plain": [
              "<generator object float_range at 0x78ad5d92cf20>"
            ]
          },
          "metadata": {},
          "execution_count": 4
        }
      ]
    },
    {
      "cell_type": "code",
      "source": [],
      "metadata": {
        "id": "1MniY6Xs3k9J"
      },
      "execution_count": null,
      "outputs": []
    }
  ]
}